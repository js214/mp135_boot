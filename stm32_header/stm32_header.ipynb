{
 "cells": [
  {
   "cell_type": "code",
   "execution_count": 5,
   "id": "a056f3fc",
   "metadata": {},
   "outputs": [],
   "source": [
    "import os\n",
    "import re\n",
    "from elftools.elf.elffile import ELFFile\n",
    "import Stm32ImageAddHeader"
   ]
  },
  {
   "cell_type": "code",
   "execution_count": 31,
   "id": "bbfe3832",
   "metadata": {},
   "outputs": [],
   "source": [
    "def add_header(elf_file, bin_file, out_file, text_name=\".text\"):\n",
    "    if os.path.isfile(elf_file) is False:\n",
    "        raise Exception(\"No such file:{}\".format(elf_file))\n",
    "\n",
    "    if os.path.isfile(bin_file) is False:\n",
    "        raise Exception(\"No such file:{}\".format(bin_file))\n",
    "\n",
    "    with open(elf_file, \"rb\") as file:\n",
    "        elf_file_h = ELFFile(file)\n",
    "        text_section = elf_file_h.get_section_by_name(text_name)\n",
    "\n",
    "        load_address = text_section.header[\"sh_addr\"]\n",
    "        entry_point = elf_file_h.header.e_entry\n",
    "\n",
    "    stm32im = Stm32ImageAddHeader.Stm32Image(\n",
    "        header_major_ver = 0x02,\n",
    "        header_minor_ver = 0x00,\n",
    "        entry            = entry_point,\n",
    "        loadaddr         = load_address,\n",
    "    )\n",
    "    ret = stm32im.generate(bin_file, out_file)\n",
    "    if ret != 0:\n",
    "      print(\"Aborted\")\n",
    "      return ret\n",
    "\n",
    "    stm32im.print_header()\n",
    "    print(\"%s generated\" % out_file)"
   ]
  },
  {
   "cell_type": "markdown",
   "id": "1f759382",
   "metadata": {},
   "source": [
    "The entire program in the following example fits in SYSRAM and does not have a separate `.text` section. Instead, everything exectutable is placed in the `.RESET` section by the linker file `stm32mp13xx_a7_sysram.ld`."
   ]
  },
  {
   "cell_type": "markdown",
   "id": "817f8440",
   "metadata": {},
   "source": [
    "Unlike MP15x, MP23x, MP25x lines, the STM32MP135x does not need the \"Binary type\" field in the STM32 header. Therefore we set it to 0."
   ]
  },
  {
   "cell_type": "code",
   "execution_count": 34,
   "id": "b16c2162",
   "metadata": {},
   "outputs": [
    {
     "name": "stdout",
     "output_type": "stream",
     "text": [
      "| Magic number            | @0x00   0 | sz   4 | 53 54 4D 32  \n",
      "| Image Signature         | @0x04   4 | sz  64 | 00 00 00 00 00 00 00 00 00 00 00 00 00 00 00 00 ... \n",
      "| Image Checksum          | @0x44  68 | sz   4 | EA 3B 65 00  \n",
      "| Header version          | @0x48  72 | sz   4 | 00 00 02 00  \n",
      "| Image Length            | @0x4c  76 | sz   4 | E4 F6 00 00  \n",
      "| Image Entry  Point      | @0x50  80 | sz   4 | 00 00 FE 2F  \n",
      "| Reserved1               | @0x54  84 | sz   4 | 00 00 00 00  \n",
      "| Load address            | @0x58  88 | sz   4 | 00 00 FE 2F  \n",
      "| Reserved2               | @0x5c  92 | sz   4 | 00 00 00 00  \n",
      "| Version Number          | @0x60  96 | sz   4 | 00 00 00 00  \n",
      "| Extension flags         | @0x64 100 | sz   4 | 00 00 00 80  \n",
      "| Post headers length     | @0x68 104 | sz   4 | 80 01 00 00  \n",
      "| Binary type             | @0x6c 108 | sz   4 | 00 00 00 00  \n",
      "| PAD                     | @0x70 112 | sz  16 | 00 00 00 00 00 00 00 00 00 00 00 00 00 00 00 00  \n",
      "| Extension header type   | @0x80 128 | sz   4 | 53 54 FF FF  \n",
      "| Extension header length | @0x84 132 | sz   4 | 80 01 00 00  \n",
      "| Extension PAD           | @0x88 136 | sz 376 | 00 00 00 00 00 00 00 00 00 00 00 00 00 00 00 00 ... \n",
      "Image Type  : ST Microelectronics STM32 V2.0\n",
      "Image Size  : 63204 bytes\n",
      "Image Load  : 0x2FFE0000\n",
      "Entry Point : 0x2FFE0000\n",
      "Checksum    : 0x00653BEA\n",
      "Ext flag    : 0x80000000\n",
      "Binary Type : 0x00000000\n",
      "Version     : 0x00000000\n",
      "blink.stm32 generated\n"
     ]
    }
   ],
   "source": [
    "add_header(\n",
    "    elf_file  = \"blink_cubeide.elf\",\n",
    "    bin_file  = \"blink_cubeide.bin\",\n",
    "    out_file  = \"blink.stm32\",\n",
    "    text_name = \".RESET\",\n",
    ")"
   ]
  }
 ],
 "metadata": {
  "kernelspec": {
   "display_name": "Python 3 (ipykernel)",
   "language": "python",
   "name": "python3"
  },
  "language_info": {
   "codemirror_mode": {
    "name": "ipython",
    "version": 3
   },
   "file_extension": ".py",
   "mimetype": "text/x-python",
   "name": "python",
   "nbconvert_exporter": "python",
   "pygments_lexer": "ipython3",
   "version": "3.11.4"
  }
 },
 "nbformat": 4,
 "nbformat_minor": 5
}
